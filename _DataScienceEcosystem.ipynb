{
 "cells": [
  {
   "cell_type": "markdown",
   "id": "d505cda0-dde9-4630-9b79-3494ce6a6a00",
   "metadata": {},
   "source": [
    "# Data Science Tools and Ecosystem"
   ]
  },
  {
   "cell_type": "markdown",
   "id": "ca77296a-c369-45f8-a2be-0afae7280e05",
   "metadata": {},
   "source": [
    "In this notebook, Data Science Tools and Ecosystem are summarized."
   ]
  },
  {
   "cell_type": "markdown",
   "id": "7dba8637-48b5-4a0b-bbed-8776c0f8bc6a",
   "metadata": {},
   "source": [
    "___Objectives:___\n",
    "- List popular languages for Data Science\n",
    "- List popular library for Data Science\n",
    "- List examples of evaluating arithmetic expressions in Python\n"
   ]
  },
  {
   "cell_type": "markdown",
   "id": "e788fcb0-b2c5-46a3-b57a-c47d6e2cadc3",
   "metadata": {},
   "source": [
    "Some of the popular languages that Data Scientists use are:"
   ]
  },
  {
   "cell_type": "markdown",
   "id": "3492d43d-d363-4598-b323-2cc71b7dfbfb",
   "metadata": {},
   "source": [
    "1.SQL\n",
    "2.R\n",
    "3.Python"
   ]
  },
  {
   "cell_type": "markdown",
   "id": "ad1b72ff-a446-4bdb-89b9-c888f0fb3d2e",
   "metadata": {},
   "source": [
    "Some of the commonly used libraries used by Data Scientists include:"
   ]
  },
  {
   "cell_type": "markdown",
   "id": "4af7bc5d-978d-4d76-a7e8-612841b81c23",
   "metadata": {},
   "source": [
    "1.Numpy 2.Pandas 3.Matplot"
   ]
  },
  {
   "cell_type": "markdown",
   "id": "43ee5b24-45e5-4a4c-b731-bae45c5da652",
   "metadata": {},
   "source": [
    "| Data Science Tools  |\n",
    "|---------------------|\n",
    "| Jupyter Notebook    |\n",
    "| RStudio             |\n",
    "| Apache Zeppelin     |"
   ]
  },
  {
   "cell_type": "markdown",
   "id": "6bbe1509-44b7-469f-ad71-e94b17480b36",
   "metadata": {},
   "source": [
    "### Below are a few examples of evaluating arithmetic expressions in Python"
   ]
  },
  {
   "cell_type": "code",
   "execution_count": 16,
   "id": "ca0ea79a-bc1f-4fe3-bca5-d43742aa0bdf",
   "metadata": {},
   "outputs": [
    {
     "data": {
      "text/plain": [
       "17"
      ]
     },
     "execution_count": 16,
     "metadata": {},
     "output_type": "execute_result"
    }
   ],
   "source": [
    "#This a simple arithmetic expression to mutiply then add integers\n",
    "(3*4)+5"
   ]
  },
  {
   "cell_type": "code",
   "execution_count": 18,
   "id": "3adcf0bf-cd9b-47af-b8ab-dfb967cca994",
   "metadata": {},
   "outputs": [
    {
     "data": {
      "text/plain": [
       "3.3333333333333335"
      ]
     },
     "execution_count": 18,
     "metadata": {},
     "output_type": "execute_result"
    }
   ],
   "source": [
    "#This will convert 200 minutes to hours by diving by 60\n",
    "200/60"
   ]
  },
  {
   "cell_type": "markdown",
   "id": "53d89baf-49d8-414d-bcf2-2ecf73cde99e",
   "metadata": {},
   "source": [
    "## Author\n",
    "Lucas"
   ]
  },
  {
   "cell_type": "markdown",
   "id": "efcbea0f-b4fe-450a-be87-7108741deb7d",
   "metadata": {},
   "source": []
  }
 ],
 "metadata": {
  "kernelspec": {
   "display_name": "Python 3 (ipykernel)",
   "language": "python",
   "name": "python3"
  },
  "language_info": {
   "codemirror_mode": {
    "name": "ipython",
    "version": 3
   },
   "file_extension": ".py",
   "mimetype": "text/x-python",
   "name": "python",
   "nbconvert_exporter": "python",
   "pygments_lexer": "ipython3",
   "version": "3.12.4"
  }
 },
 "nbformat": 4,
 "nbformat_minor": 5
}
